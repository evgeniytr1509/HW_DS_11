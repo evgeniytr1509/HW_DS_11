{
  "nbformat": 4,
  "nbformat_minor": 0,
  "metadata": {
    "colab": {
      "provenance": [],
      "authorship_tag": "ABX9TyPz8Nkq96Ak/WDyiG8+YDYZ",
      "include_colab_link": true
    },
    "kernelspec": {
      "name": "python3",
      "display_name": "Python 3"
    },
    "language_info": {
      "name": "python"
    }
  },
  "cells": [
    {
      "cell_type": "markdown",
      "metadata": {
        "id": "view-in-github",
        "colab_type": "text"
      },
      "source": [
        "<a href=\"https://colab.research.google.com/github/evgeniytr1509/HW_DS_11/blob/main/DS_HW_11.ipynb\" target=\"_parent\"><img src=\"https://colab.research.google.com/assets/colab-badge.svg\" alt=\"Open In Colab\"/></a>"
      ]
    },
    {
      "cell_type": "code",
      "execution_count": 1,
      "metadata": {
        "colab": {
          "base_uri": "https://localhost:8080/"
        },
        "id": "B_RO5ycY58RS",
        "outputId": "84032597-5724-49ca-f9d2-07a07bdb9234"
      },
      "outputs": [
        {
          "output_type": "stream",
          "name": "stdout",
          "text": [
            "Downloading data from https://storage.googleapis.com/tensorflow/tf-keras-datasets/imdb.npz\n",
            "17464789/17464789 [==============================] - 0s 0us/step\n"
          ]
        }
      ],
      "source": [
        "import numpy as np\n",
        "from tensorflow.keras.datasets import imdb\n",
        "from tensorflow.keras.preprocessing.sequence import pad_sequences\n",
        "from tensorflow.keras.models import Sequential\n",
        "from tensorflow.keras.layers import Embedding, SimpleRNN, LSTM, Bidirectional, Dense\n",
        "\n",
        "num_words = 10000\n",
        "maxlen = 200\n",
        "\n",
        "(X_train, y_train), (X_test, y_test) = imdb.load_data(num_words=num_words)\n",
        "X_train = pad_sequences(X_train, maxlen=maxlen)\n",
        "X_test = pad_sequences(X_test, maxlen=maxlen)"
      ]
    },
    {
      "cell_type": "code",
      "source": [
        "# Простая рекуррентная нейронная сеть (RNN)\n",
        "model_rnn = Sequential()\n",
        "model_rnn.add(Embedding(input_dim=num_words, output_dim=32, input_length=maxlen))\n",
        "model_rnn.add(SimpleRNN(units=32))\n",
        "model_rnn.add(Dense(units=1, activation='sigmoid'))\n",
        "model_rnn.compile(optimizer='adam', loss='binary_crossentropy', metrics=['accuracy'])\n",
        "\n",
        "# LSTM\n",
        "model_lstm = Sequential()\n",
        "model_lstm.add(Embedding(input_dim=num_words, output_dim=32, input_length=maxlen))\n",
        "model_lstm.add(LSTM(units=32))\n",
        "model_lstm.add(Dense(units=1, activation='sigmoid'))\n",
        "model_lstm.compile(optimizer='adam', loss='binary_crossentropy', metrics=['accuracy'])\n",
        "\n",
        "# Двусторонняя рекуррентная нейронная сеть\n",
        "model_bidirectional = Sequential()\n",
        "model_bidirectional.add(Embedding(input_dim=num_words, output_dim=32, input_length=maxlen))\n",
        "model_bidirectional.add(Bidirectional(LSTM(units=32)))\n",
        "model_bidirectional.add(Dense(units=1, activation='sigmoid'))\n",
        "model_bidirectional.compile(optimizer='adam', loss='binary_crossentropy', metrics=['accuracy'])\n",
        "\n",
        "# Глубокая сеть с несколькими слоями\n",
        "model_deep = Sequential()\n",
        "model_deep.add(Embedding(input_dim=num_words, output_dim=32, input_length=maxlen))\n",
        "model_deep.add(Bidirectional(LSTM(units=32, return_sequences=True)))\n",
        "model_deep.add(Bidirectional(LSTM(units=32)))\n",
        "model_deep.add(Dense(units=1, activation='sigmoid'))\n",
        "model_deep.compile(optimizer='adam', loss='binary_crossentropy', metrics=['accuracy'])\n",
        "\n",
        "# Обучение моделей - 3 эпохи\n",
        "model_rnn.fit(X_train, y_train, epochs=3, batch_size=128, validation_split=0.2)\n",
        "model_lstm.fit(X_train, y_train, epochs=3, batch_size=128, validation_split=0.2)\n",
        "model_bidirectional.fit(X_train, y_train, epochs=3, batch_size=128, validation_split=0.2)\n",
        "model_deep.fit(X_train, y_train, epochs=3, batch_size=128, validation_split=0.2)"
      ],
      "metadata": {
        "colab": {
          "base_uri": "https://localhost:8080/"
        },
        "id": "PMqwvN9S6vst",
        "outputId": "cad459f7-8ae4-49a3-e9cf-699de78e388e"
      },
      "execution_count": 2,
      "outputs": [
        {
          "output_type": "stream",
          "name": "stdout",
          "text": [
            "Epoch 1/3\n",
            "157/157 [==============================] - 14s 78ms/step - loss: 0.5521 - accuracy: 0.7107 - val_loss: 0.4384 - val_accuracy: 0.8072\n",
            "Epoch 2/3\n",
            "157/157 [==============================] - 10s 67ms/step - loss: 0.3864 - accuracy: 0.8336 - val_loss: 0.3494 - val_accuracy: 0.8502\n",
            "Epoch 3/3\n",
            "157/157 [==============================] - 11s 71ms/step - loss: 0.2611 - accuracy: 0.9000 - val_loss: 0.3816 - val_accuracy: 0.8380\n",
            "Epoch 1/3\n",
            "157/157 [==============================] - 29s 166ms/step - loss: 0.5023 - accuracy: 0.7501 - val_loss: 0.3279 - val_accuracy: 0.8672\n",
            "Epoch 2/3\n",
            "157/157 [==============================] - 26s 165ms/step - loss: 0.2517 - accuracy: 0.9036 - val_loss: 0.2936 - val_accuracy: 0.8738\n",
            "Epoch 3/3\n",
            "157/157 [==============================] - 24s 155ms/step - loss: 0.1811 - accuracy: 0.9338 - val_loss: 0.3171 - val_accuracy: 0.8670\n",
            "Epoch 1/3\n",
            "157/157 [==============================] - 48s 280ms/step - loss: 0.5147 - accuracy: 0.7380 - val_loss: 0.3270 - val_accuracy: 0.8708\n",
            "Epoch 2/3\n",
            "157/157 [==============================] - 40s 258ms/step - loss: 0.2521 - accuracy: 0.9023 - val_loss: 0.3082 - val_accuracy: 0.8746\n",
            "Epoch 3/3\n",
            "157/157 [==============================] - 41s 260ms/step - loss: 0.1740 - accuracy: 0.9370 - val_loss: 0.3080 - val_accuracy: 0.8758\n",
            "Epoch 1/3\n",
            "157/157 [==============================] - 100s 582ms/step - loss: 0.4955 - accuracy: 0.7398 - val_loss: 0.3848 - val_accuracy: 0.8262\n",
            "Epoch 2/3\n",
            "157/157 [==============================] - 96s 613ms/step - loss: 0.2694 - accuracy: 0.8947 - val_loss: 0.3548 - val_accuracy: 0.8548\n",
            "Epoch 3/3\n",
            "157/157 [==============================] - 94s 598ms/step - loss: 0.1864 - accuracy: 0.9323 - val_loss: 0.3500 - val_accuracy: 0.8668\n"
          ]
        },
        {
          "output_type": "execute_result",
          "data": {
            "text/plain": [
              "<keras.src.callbacks.History at 0x79392565efb0>"
            ]
          },
          "metadata": {},
          "execution_count": 2
        }
      ]
    },
    {
      "cell_type": "markdown",
      "source": [
        "**Обучение модели RNN 6 эпох**"
      ],
      "metadata": {
        "id": "D5vEW0taRG7u"
      }
    },
    {
      "cell_type": "code",
      "source": [
        "model_rnn.fit(X_train, y_train, epochs=6, batch_size=128, validation_split=0.2)"
      ],
      "metadata": {
        "colab": {
          "base_uri": "https://localhost:8080/"
        },
        "id": "8b_KUuctOfev",
        "outputId": "4f098b56-c608-4847-f008-bf2a41bb2923"
      },
      "execution_count": 28,
      "outputs": [
        {
          "output_type": "stream",
          "name": "stdout",
          "text": [
            "Epoch 1/6\n",
            "157/157 [==============================] - 12s 78ms/step - loss: 0.0223 - accuracy: 0.9957 - val_loss: 0.5812 - val_accuracy: 0.8172\n",
            "Epoch 2/6\n",
            "157/157 [==============================] - 13s 80ms/step - loss: 0.0167 - accuracy: 0.9967 - val_loss: 0.6131 - val_accuracy: 0.8316\n",
            "Epoch 3/6\n",
            "157/157 [==============================] - 11s 70ms/step - loss: 0.0116 - accuracy: 0.9976 - val_loss: 0.6400 - val_accuracy: 0.8366\n",
            "Epoch 4/6\n",
            "157/157 [==============================] - 12s 74ms/step - loss: 0.0052 - accuracy: 0.9994 - val_loss: 0.7001 - val_accuracy: 0.8302\n",
            "Epoch 5/6\n",
            "157/157 [==============================] - 14s 91ms/step - loss: 0.0035 - accuracy: 0.9996 - val_loss: 0.7949 - val_accuracy: 0.7868\n",
            "Epoch 6/6\n",
            "157/157 [==============================] - 12s 78ms/step - loss: 0.0525 - accuracy: 0.9830 - val_loss: 0.7349 - val_accuracy: 0.7930\n"
          ]
        },
        {
          "output_type": "execute_result",
          "data": {
            "text/plain": [
              "<keras.src.callbacks.History at 0x793925f840d0>"
            ]
          },
          "metadata": {},
          "execution_count": 28
        }
      ]
    },
    {
      "cell_type": "markdown",
      "source": [
        "Точность обучения RNN:\n",
        "\n",
        "3 эпохи - 83,8 %\n",
        "\n",
        "6 эпох - 79,3 %\n",
        "\n",
        "максимальная точность 83,66% после 3ей эпохи обучения."
      ],
      "metadata": {
        "id": "ISBv_N7kP7F4"
      }
    },
    {
      "cell_type": "markdown",
      "source": [
        "**Обучение модели LSTM 6 эпох**\n"
      ],
      "metadata": {
        "id": "1gAaB4f7REhG"
      }
    },
    {
      "cell_type": "code",
      "source": [
        "model_lstm.fit(X_train, y_train, epochs=6, batch_size=128, validation_split=0.2)"
      ],
      "metadata": {
        "colab": {
          "base_uri": "https://localhost:8080/"
        },
        "id": "KONUsFvAPrl_",
        "outputId": "22fe6306-b4cd-4170-98c0-b8a7358f159d"
      },
      "execution_count": 29,
      "outputs": [
        {
          "output_type": "stream",
          "name": "stdout",
          "text": [
            "Epoch 1/6\n",
            "157/157 [==============================] - 26s 164ms/step - loss: 0.0623 - accuracy: 0.9823 - val_loss: 0.4856 - val_accuracy: 0.8636\n",
            "Epoch 2/6\n",
            "157/157 [==============================] - 24s 151ms/step - loss: 0.0690 - accuracy: 0.9790 - val_loss: 0.4682 - val_accuracy: 0.8462\n",
            "Epoch 3/6\n",
            "157/157 [==============================] - 27s 171ms/step - loss: 0.0525 - accuracy: 0.9852 - val_loss: 0.4859 - val_accuracy: 0.8578\n",
            "Epoch 4/6\n",
            "157/157 [==============================] - 26s 168ms/step - loss: 0.0582 - accuracy: 0.9826 - val_loss: 0.5049 - val_accuracy: 0.8566\n",
            "Epoch 5/6\n",
            "157/157 [==============================] - 26s 163ms/step - loss: 0.0389 - accuracy: 0.9898 - val_loss: 0.6333 - val_accuracy: 0.8486\n",
            "Epoch 6/6\n",
            "157/157 [==============================] - 29s 184ms/step - loss: 0.0280 - accuracy: 0.9936 - val_loss: 0.5904 - val_accuracy: 0.8580\n"
          ]
        },
        {
          "output_type": "execute_result",
          "data": {
            "text/plain": [
              "<keras.src.callbacks.History at 0x793925f5a2f0>"
            ]
          },
          "metadata": {},
          "execution_count": 29
        }
      ]
    },
    {
      "cell_type": "markdown",
      "source": [
        "Точность обучения LSTM:\n",
        "\n",
        "3 эпохи - 86.7 %\n",
        "\n",
        "6 эпох - 85.8 %\n",
        "\n",
        "максимальная точность 86,36% после 1й эпохи обучения"
      ],
      "metadata": {
        "id": "g2KfoPEiQ7Tu"
      }
    },
    {
      "cell_type": "markdown",
      "source": [
        "**Обучение модели  двусторонняя рекуррентная нейронная сеть 6 эпох**"
      ],
      "metadata": {
        "id": "vq3jL3baSoxg"
      }
    },
    {
      "cell_type": "code",
      "source": [
        "model_bidirectional.fit(X_train, y_train, epochs=6, batch_size=128, validation_split=0.2)"
      ],
      "metadata": {
        "colab": {
          "base_uri": "https://localhost:8080/"
        },
        "id": "PjIew0mIQ1jp",
        "outputId": "9afec7cc-756b-475d-f9a1-7f8a9ece2fa1"
      },
      "execution_count": 30,
      "outputs": [
        {
          "output_type": "stream",
          "name": "stdout",
          "text": [
            "Epoch 1/6\n",
            "157/157 [==============================] - 45s 284ms/step - loss: 0.0689 - accuracy: 0.9802 - val_loss: 0.4872 - val_accuracy: 0.8642\n",
            "Epoch 2/6\n",
            "157/157 [==============================] - 44s 278ms/step - loss: 0.0755 - accuracy: 0.9741 - val_loss: 0.4851 - val_accuracy: 0.8634\n",
            "Epoch 3/6\n",
            "157/157 [==============================] - 43s 276ms/step - loss: 0.0522 - accuracy: 0.9850 - val_loss: 0.5642 - val_accuracy: 0.8666\n",
            "Epoch 4/6\n",
            "157/157 [==============================] - 44s 278ms/step - loss: 0.0383 - accuracy: 0.9898 - val_loss: 0.5519 - val_accuracy: 0.8576\n",
            "Epoch 5/6\n",
            "157/157 [==============================] - 45s 286ms/step - loss: 0.0504 - accuracy: 0.9855 - val_loss: 0.5077 - val_accuracy: 0.8588\n",
            "Epoch 6/6\n",
            "157/157 [==============================] - 43s 273ms/step - loss: 0.0478 - accuracy: 0.9857 - val_loss: 0.6517 - val_accuracy: 0.8566\n"
          ]
        },
        {
          "output_type": "execute_result",
          "data": {
            "text/plain": [
              "<keras.src.callbacks.History at 0x793925e39780>"
            ]
          },
          "metadata": {},
          "execution_count": 30
        }
      ]
    },
    {
      "cell_type": "markdown",
      "source": [
        "Точность обучения:\n",
        "\n",
        "3 эпохи - 87.58 %\n",
        "\n",
        "6 эпох - 85.66 %\n",
        "\n",
        "максимальная точность 86,66% после 3й эпохи обучения"
      ],
      "metadata": {
        "id": "AUVzJ1RHS5Qm"
      }
    },
    {
      "cell_type": "markdown",
      "source": [
        "**Обучение модели DEEP (Глубокая сеть с несколькими слоями) 6 эпох**"
      ],
      "metadata": {
        "id": "ZP0xNOtkSVk-"
      }
    },
    {
      "cell_type": "code",
      "source": [
        "model_deep.fit(X_train, y_train, epochs=6, batch_size=128, validation_split=0.2)"
      ],
      "metadata": {
        "colab": {
          "base_uri": "https://localhost:8080/"
        },
        "id": "X4TLvK9CSI1_",
        "outputId": "0415458c-040f-4fe2-913c-87b90c81ee62"
      },
      "execution_count": 31,
      "outputs": [
        {
          "output_type": "stream",
          "name": "stdout",
          "text": [
            "Epoch 1/6\n",
            "157/157 [==============================] - 93s 594ms/step - loss: 0.0608 - accuracy: 0.9818 - val_loss: 0.7014 - val_accuracy: 0.8200\n",
            "Epoch 2/6\n",
            "157/157 [==============================] - 93s 596ms/step - loss: 0.0495 - accuracy: 0.9857 - val_loss: 0.5342 - val_accuracy: 0.8598\n",
            "Epoch 3/6\n",
            "157/157 [==============================] - 99s 631ms/step - loss: 0.0400 - accuracy: 0.9894 - val_loss: 0.5336 - val_accuracy: 0.8572\n",
            "Epoch 4/6\n",
            "157/157 [==============================] - 92s 590ms/step - loss: 0.0290 - accuracy: 0.9930 - val_loss: 0.6654 - val_accuracy: 0.8372\n",
            "Epoch 5/6\n",
            "157/157 [==============================] - 90s 574ms/step - loss: 0.0349 - accuracy: 0.9904 - val_loss: 0.6091 - val_accuracy: 0.8516\n",
            "Epoch 6/6\n",
            "157/157 [==============================] - 92s 584ms/step - loss: 0.0269 - accuracy: 0.9937 - val_loss: 0.6656 - val_accuracy: 0.8462\n"
          ]
        },
        {
          "output_type": "execute_result",
          "data": {
            "text/plain": [
              "<keras.src.callbacks.History at 0x793925e1ef80>"
            ]
          },
          "metadata": {},
          "execution_count": 31
        }
      ]
    },
    {
      "cell_type": "markdown",
      "source": [
        "Точность обучения:\n",
        "\n",
        "3 эпохи - 86.68 %\n",
        "\n",
        "6 эпох - 84,62 %\n",
        "\n",
        "максимальная точность 85,98% после 2й эпохи обучения"
      ],
      "metadata": {
        "id": "V_pkz-faT1Rx"
      }
    },
    {
      "cell_type": "markdown",
      "source": [
        "**Параметры сетей**"
      ],
      "metadata": {
        "id": "7DUxxykA9R57"
      }
    },
    {
      "cell_type": "markdown",
      "source": [
        "Простая рекуррентная нейронная сеть (RNN)"
      ],
      "metadata": {
        "id": "isTU6WOUUtW3"
      }
    },
    {
      "cell_type": "code",
      "source": [
        "model_rnn.summary()"
      ],
      "metadata": {
        "colab": {
          "base_uri": "https://localhost:8080/"
        },
        "id": "cTgmwVrD9LIE",
        "outputId": "89c99185-dec4-4eb8-9252-19aa14068876"
      },
      "execution_count": 3,
      "outputs": [
        {
          "output_type": "stream",
          "name": "stdout",
          "text": [
            "Model: \"sequential\"\n",
            "_________________________________________________________________\n",
            " Layer (type)                Output Shape              Param #   \n",
            "=================================================================\n",
            " embedding (Embedding)       (None, 200, 32)           320000    \n",
            "                                                                 \n",
            " simple_rnn (SimpleRNN)      (None, 32)                2080      \n",
            "                                                                 \n",
            " dense (Dense)               (None, 1)                 33        \n",
            "                                                                 \n",
            "=================================================================\n",
            "Total params: 322113 (1.23 MB)\n",
            "Trainable params: 322113 (1.23 MB)\n",
            "Non-trainable params: 0 (0.00 Byte)\n",
            "_________________________________________________________________\n"
          ]
        }
      ]
    },
    {
      "cell_type": "markdown",
      "source": [
        "LSTM,  Long Short-Term Memory"
      ],
      "metadata": {
        "id": "O_uHHLXt9mJT"
      }
    },
    {
      "cell_type": "code",
      "source": [
        "model_lstm.summary()"
      ],
      "metadata": {
        "colab": {
          "base_uri": "https://localhost:8080/"
        },
        "id": "R0xzGJpg9mb8",
        "outputId": "4e56f2d5-942c-48ae-84de-61191cd86968"
      },
      "execution_count": 4,
      "outputs": [
        {
          "output_type": "stream",
          "name": "stdout",
          "text": [
            "Model: \"sequential_1\"\n",
            "_________________________________________________________________\n",
            " Layer (type)                Output Shape              Param #   \n",
            "=================================================================\n",
            " embedding_1 (Embedding)     (None, 200, 32)           320000    \n",
            "                                                                 \n",
            " lstm (LSTM)                 (None, 32)                8320      \n",
            "                                                                 \n",
            " dense_1 (Dense)             (None, 1)                 33        \n",
            "                                                                 \n",
            "=================================================================\n",
            "Total params: 328353 (1.25 MB)\n",
            "Trainable params: 328353 (1.25 MB)\n",
            "Non-trainable params: 0 (0.00 Byte)\n",
            "_________________________________________________________________\n"
          ]
        }
      ]
    },
    {
      "cell_type": "markdown",
      "source": [
        "Mодель с двусторонней рекуррентной нейронной сетью (Bidirectional LSTM)"
      ],
      "metadata": {
        "id": "pm2vz9-b-IDG"
      }
    },
    {
      "cell_type": "code",
      "source": [
        "model_bidirectional.summary()"
      ],
      "metadata": {
        "colab": {
          "base_uri": "https://localhost:8080/"
        },
        "id": "xPC7N7FC-IKj",
        "outputId": "c764d0a7-c7d9-427d-90a6-150143577119"
      },
      "execution_count": 5,
      "outputs": [
        {
          "output_type": "stream",
          "name": "stdout",
          "text": [
            "Model: \"sequential_2\"\n",
            "_________________________________________________________________\n",
            " Layer (type)                Output Shape              Param #   \n",
            "=================================================================\n",
            " embedding_2 (Embedding)     (None, 200, 32)           320000    \n",
            "                                                                 \n",
            " bidirectional (Bidirection  (None, 64)                16640     \n",
            " al)                                                             \n",
            "                                                                 \n",
            " dense_2 (Dense)             (None, 1)                 65        \n",
            "                                                                 \n",
            "=================================================================\n",
            "Total params: 336705 (1.28 MB)\n",
            "Trainable params: 336705 (1.28 MB)\n",
            "Non-trainable params: 0 (0.00 Byte)\n",
            "_________________________________________________________________\n"
          ]
        }
      ]
    },
    {
      "cell_type": "markdown",
      "source": [
        "Глубокая сеть с несколькими слоями"
      ],
      "metadata": {
        "id": "bJtJuZqk-o50"
      }
    },
    {
      "cell_type": "code",
      "source": [
        "model_deep.summary()"
      ],
      "metadata": {
        "colab": {
          "base_uri": "https://localhost:8080/"
        },
        "id": "_7JXznnn-pH0",
        "outputId": "05c1836c-3b3c-4ee3-c124-7f1238ae8d86"
      },
      "execution_count": 6,
      "outputs": [
        {
          "output_type": "stream",
          "name": "stdout",
          "text": [
            "Model: \"sequential_3\"\n",
            "_________________________________________________________________\n",
            " Layer (type)                Output Shape              Param #   \n",
            "=================================================================\n",
            " embedding_3 (Embedding)     (None, 200, 32)           320000    \n",
            "                                                                 \n",
            " bidirectional_1 (Bidirecti  (None, 200, 64)           16640     \n",
            " onal)                                                           \n",
            "                                                                 \n",
            " bidirectional_2 (Bidirecti  (None, 64)                24832     \n",
            " onal)                                                           \n",
            "                                                                 \n",
            " dense_3 (Dense)             (None, 1)                 65        \n",
            "                                                                 \n",
            "=================================================================\n",
            "Total params: 361537 (1.38 MB)\n",
            "Trainable params: 361537 (1.38 MB)\n",
            "Non-trainable params: 0 (0.00 Byte)\n",
            "_________________________________________________________________\n"
          ]
        }
      ]
    },
    {
      "cell_type": "markdown",
      "source": [
        "**Сравнительный анализ различных типов рекуррентных нейронных сетей**\n",
        "\n",
        "  На протяжении обучения все модели показывают улучшение точности на валидационных данных с каждой эпохой.\n",
        "\n",
        "  В начале обучения все модели достигают относительно высокой точности на валидационных данных.\n",
        "\n",
        "  LSTM и Bidirectional LSTM в целом демонстрируют хорошую точность на протяжении всего обучения.\n",
        "\n",
        "  В глубокой сети с несколькими слоями после 2-3 эпох точность остается на уровне примерно 0.85, что может свидетельствовать о наличии переобучения.\n",
        "\n",
        "Исходя из предоставленных результатов на валидационных данных (val_accuracy), наилучшие показатели точности у Bidirectional LSTM"
      ],
      "metadata": {
        "id": "7OIh9Q-dKLdX"
      }
    }
  ]
}